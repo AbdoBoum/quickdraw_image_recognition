{
  "nbformat": 4,
  "nbformat_minor": 0,
  "metadata": {
    "kernelspec": {
      "display_name": "Python 3",
      "language": "python",
      "name": "python3"
    },
    "language_info": {
      "codemirror_mode": {
        "name": "ipython",
        "version": 3
      },
      "file_extension": ".py",
      "mimetype": "text/x-python",
      "name": "python",
      "nbconvert_exporter": "python",
      "pygments_lexer": "ipython3",
      "version": "3.7.8"
    },
    "colab": {
      "name": "challenge.ipynb",
      "provenance": [],
      "collapsed_sections": []
    }
  },
  "cells": [
    {
      "cell_type": "markdown",
      "metadata": {
        "id": "aabanFL0cGez"
      },
      "source": [
        "# Challenge Deep Learning"
      ]
    },
    {
      "cell_type": "markdown",
      "metadata": {
        "id": "GjECGSQjcGe5"
      },
      "source": [
        "L'objectif de ce challenge est de proposer une méthode de classification, basée sur des réseaux de neurones, permettant de classer des images issues de Google Quickdraw (https://quickdraw.withgoogle.com/data).\n",
        "Le jeu de données proposé comprend 5 classes balancées, avec 15000 exemples d'apprentissage et 5000 exemples de validation : des paniers, des yeux, des lunettes, des lapins et des mains.\n",
        "\n",
        "Vous pouvez utiliser tout algorithme qui vous semble pertinent (PMC, CNN,), en faisant varier les données d'entrée (normalisation, augmentation de données,...), les paramètres des réseaux considérés (fonction objectif, optimiseur, dropout, learning rate, taille des batchs...)\n",
        "\n",
        "Bien sûr, pour valider votre travail, nous ferons tourner le code en local, sur la base originale que nous conservons, pour voir si les résultats que vous proposez sont reproductibles. \n",
        "\n",
        "Le compte-rendu sera effectué sur un notebook jupyter, dans lequel vous reporterez votre méthodologie en markdown, et vos codes en Python. Vous expliquerez votre démarche, justifierez vos choix, commenterez vos expérimentations et vos résultats.\n",
        "\n",
        "La notation sera construite de la manière suivante : \n",
        "- 12 points sur le compte-rendu\n",
        "- 8 points seront accordés sur un classement par le taux de reconnsaissance des objets de la base de test. Les binômes seront classés par taux de reconnaissance décroissant, les premiers ayant 8 points accordés, les autres binômes ayant une note suivant une décroissance linéaire.\n",
        "\n",
        "Le notebook sera déposé sur la plateforme moodle du cours."
      ]
    },
    {
      "cell_type": "markdown",
      "metadata": {
        "id": "aXSeEk3BcGe5"
      },
      "source": [
        "## Imports"
      ]
    },
    {
      "cell_type": "code",
      "metadata": {
        "id": "L8YWkqXxcGe6"
      },
      "source": [
        "%matplotlib inline\n",
        "\n",
        "import os\n",
        "from sklearn.utils import shuffle\n",
        "import tensorflow as tf\n",
        "import pandas as pd\n",
        "import numpy as np\n",
        "import time\n",
        "import cv2 \n",
        "from PIL import Image\n",
        "import glob\n",
        "import matplotlib.pyplot as plt\n",
        "from tensorflow.keras.models import Sequential\n",
        "from tensorflow.keras.layers import Dense, Dropout, Activation, Flatten, Conv2D, MaxPooling2D, BatchNormalization, MaxPool2D\n",
        "from tensorflow.keras.optimizers import Adam\n",
        "import visualkeras\n",
        "from tensorflow.keras.callbacks import EarlyStopping"
      ],
      "execution_count": null,
      "outputs": []
    },
    {
      "cell_type": "markdown",
      "metadata": {
        "id": "iQI3J6NCcGe6"
      },
      "source": [
        "## Données"
      ]
    },
    {
      "cell_type": "code",
      "metadata": {
        "id": "cJL9z7njcGe7"
      },
      "source": [
        "DATADIR = \"C:/Users/abder/OneDrive/Bureau/challengeDL/images/\"\n",
        "classes = [\"basket\",\"eye\",\"binoculars\",\"rabbit\",\"hand\"]\n",
        "num_classes = len(classes)\n",
        "train = pd.read_csv('train.csv')\n",
        "valid = pd.read_csv('valid.csv')"
      ],
      "execution_count": null,
      "outputs": []
    },
    {
      "cell_type": "code",
      "metadata": {
        "id": "goBUvlI2cGe7",
        "outputId": "b4d29993-7878-4afb-8412-3b420792b943"
      },
      "source": [
        "valid = shuffle(valid)\n",
        "train = shuffle(train)\n",
        "\n",
        "train.head()"
      ],
      "execution_count": null,
      "outputs": [
        {
          "output_type": "execute_result",
          "data": {
            "text/html": [
              "<div>\n",
              "<style scoped>\n",
              "    .dataframe tbody tr th:only-of-type {\n",
              "        vertical-align: middle;\n",
              "    }\n",
              "\n",
              "    .dataframe tbody tr th {\n",
              "        vertical-align: top;\n",
              "    }\n",
              "\n",
              "    .dataframe thead th {\n",
              "        text-align: right;\n",
              "    }\n",
              "</style>\n",
              "<table border=\"1\" class=\"dataframe\">\n",
              "  <thead>\n",
              "    <tr style=\"text-align: right;\">\n",
              "      <th></th>\n",
              "      <th>image_name</th>\n",
              "      <th>relative_path</th>\n",
              "      <th>class_label</th>\n",
              "    </tr>\n",
              "  </thead>\n",
              "  <tbody>\n",
              "    <tr>\n",
              "      <th>59418</th>\n",
              "      <td>rabbit_054217.png</td>\n",
              "      <td>rabbit/rabbit_054217.png</td>\n",
              "      <td>3</td>\n",
              "    </tr>\n",
              "    <tr>\n",
              "      <th>49529</th>\n",
              "      <td>rabbit_016292.png</td>\n",
              "      <td>rabbit/rabbit_016292.png</td>\n",
              "      <td>3</td>\n",
              "    </tr>\n",
              "    <tr>\n",
              "      <th>50111</th>\n",
              "      <td>rabbit_071696.png</td>\n",
              "      <td>rabbit/rabbit_071696.png</td>\n",
              "      <td>3</td>\n",
              "    </tr>\n",
              "    <tr>\n",
              "      <th>544</th>\n",
              "      <td>basket_042792.png</td>\n",
              "      <td>basket/basket_042792.png</td>\n",
              "      <td>0</td>\n",
              "    </tr>\n",
              "    <tr>\n",
              "      <th>8247</th>\n",
              "      <td>basket_108756.png</td>\n",
              "      <td>basket/basket_108756.png</td>\n",
              "      <td>0</td>\n",
              "    </tr>\n",
              "  </tbody>\n",
              "</table>\n",
              "</div>"
            ],
            "text/plain": [
              "              image_name             relative_path  class_label\n",
              "59418  rabbit_054217.png  rabbit/rabbit_054217.png            3\n",
              "49529  rabbit_016292.png  rabbit/rabbit_016292.png            3\n",
              "50111  rabbit_071696.png  rabbit/rabbit_071696.png            3\n",
              "544    basket_042792.png  basket/basket_042792.png            0\n",
              "8247   basket_108756.png  basket/basket_108756.png            0"
            ]
          },
          "metadata": {
            "tags": []
          },
          "execution_count": 3
        }
      ]
    },
    {
      "cell_type": "code",
      "metadata": {
        "id": "LZQwW5p1cGe8",
        "outputId": "7c7f62c1-6e7b-40a1-95ca-43ad4cd1c714"
      },
      "source": [
        "plt.figure(figsize=(18,9))\n",
        "for i in range(0,5):\n",
        "    ax= plt.subplot(3,2 ,i+1)\n",
        "    mydata = pd.read_csv(\"train.csv\",skiprows = [1], nrows=1)\n",
        "    im = Image.open('images/'+classes[i]+'/'+ os.listdir(\"images/\"+classes[i])[0])\n",
        "    fig=ax.imshow(im)\n",
        "    plt.title(classes[i])\n",
        "    fig.axes.get_xaxis().set_visible(False)\n",
        "    fig.axes.get_yaxis().set_visible(False)\n",
        "plt.show()    \n"
      ],
      "execution_count": null,
      "outputs": [
        {
          "output_type": "display_data",
          "data": {
            "image/png": "[encoded data removed]",
            "text/plain": [
              "<Figure size 1296x648 with 5 Axes>"
            ]
          },
          "metadata": {
            "tags": [],
            "needs_background": "light"
          }
        }
      ]
    },
    {
      "cell_type": "markdown",
      "metadata": {
        "id": "xvRBjAqdcGe9"
      },
      "source": [
        "### Parmis les réseaux de neuronnes les plus performants au niveau de la classification d'images, on retouve les réseaux convolutionnel. Pour cela, nous avons commencé par ce type de réseaux afin de classifier nos images.  "
      ]
    },
    {
      "cell_type": "markdown",
      "metadata": {
        "id": "jmVCjw_ghImC"
      },
      "source": [
        "### La première étape est de définir les paramètres de notre modèle \r\n",
        "### Avant de fixer les paramètres ci-dessous, nous avons varié les valeurs du learning rate (lr) ainsi que les valeurs du dropout avant de fixer ces deux derniers sur les valeurs suivantes car c'est celles qui nous ont permis d'avoir le meilleur score d'apprentissage\r\n",
        "\r\n"
      ]
    },
    {
      "cell_type": "code",
      "metadata": {
        "id": "zKK1H3ERcGe9"
      },
      "source": [
        "IMG_SIZE = 28\n",
        "lr = 0.001\n",
        "num_epochs = 25\n",
        "batch_size = 200\n",
        "dropout = 0.3"
      ],
      "execution_count": null,
      "outputs": []
    },
    {
      "cell_type": "markdown",
      "metadata": {
        "id": "CSbPI1ktcGe9"
      },
      "source": [
        "### Ensuite on charge les données d'entrainement ainsi que les données de validation"
      ]
    },
    {
      "cell_type": "code",
      "metadata": {
        "id": "YZBRrT96cGe-"
      },
      "source": [
        "x_train_cnn = []\n",
        "y_train_cnn = []\n",
        "for i in range(len(train)):\n",
        "    path = DATADIR + train['relative_path'][i]\n",
        "    x_train_cnn.append(cv2.imread(path, cv2.IMREAD_GRAYSCALE))\n",
        "    y_train_cnn.append(train['class_label'][i])"
      ],
      "execution_count": null,
      "outputs": []
    },
    {
      "cell_type": "code",
      "metadata": {
        "id": "bnCxNdIYcGe-"
      },
      "source": [
        "x_test_cnn = []\n",
        "y_test_cnn = []\n",
        "for i in range(len(valid)):\n",
        "    path = DATADIR + valid['relative_path'][i]\n",
        "    x_test_cnn.append(cv2.imread(path, cv2.IMREAD_GRAYSCALE))\n",
        "    y_test_cnn.append(valid['class_label'][i])"
      ],
      "execution_count": null,
      "outputs": []
    },
    {
      "cell_type": "markdown",
      "metadata": {
        "id": "Fy6VAfD2cGe-"
      },
      "source": [
        "### Nous devons également s'assurer que les images sont sous la forme  28x28, ce qui donne au réseau de neurones des informations supplémentaires par rapport à un vecteur de taille 784x1."
      ]
    },
    {
      "cell_type": "code",
      "metadata": {
        "id": "eb7vHThYcGe-"
      },
      "source": [
        "x_train_cnn = np.array(x_train_cnn).reshape(-1, IMG_SIZE, IMG_SIZE, 1).astype('float32')\n",
        "x_test_cnn = np.array(x_test_cnn).reshape(-1, IMG_SIZE, IMG_SIZE, 1).astype('float32')\n",
        "y_train_cnn = np.array(y_train_cnn)\n",
        "y_test_cnn = np.array(y_test_cnn)"
      ],
      "execution_count": null,
      "outputs": []
    },
    {
      "cell_type": "markdown",
      "metadata": {
        "id": "jj1dkFNbcGe_"
      },
      "source": [
        "### Les valeurs des pixel varie en général entre 0 et 255. Il est presque toujours judicieux d'effectuer une mise à l'échelle des valeurs d'entrée lors de l'utilisation de modèles de réseau de neurones. Étant donné que l'échelle est bien connue et se comporte bien, nous pouvons très rapidement normaliser les valeurs des pixel entre 0 et 1 en divisant chaque valeur par la valeur maximale d'un pixel et qui est de 255"
      ]
    },
    {
      "cell_type": "code",
      "metadata": {
        "id": "4ABJRFZ1cGe_"
      },
      "source": [
        "x_train_cnn = x_train_cnn / 255.0\n",
        "x_test_cnn = x_test_cnn / 255.0"
      ],
      "execution_count": null,
      "outputs": []
    },
    {
      "cell_type": "markdown",
      "metadata": {
        "id": "qSIsEvcMcGe_"
      },
      "source": [
        "### Présentation du modèle \r\n"
      ]
    },
    {
      "cell_type": "markdown",
      "metadata": {
        "id": "G_wSUu5CcGe_"
      },
      "source": [
        "Après avoir préparé nos données et fixé nos paramètres.Nous sommes maintenant prêts à créer notre modèle. \r\n"
      ]
    },
    {
      "cell_type": "markdown",
      "metadata": {
        "id": "L8hA2luFcGfA"
      },
      "source": [
        "Le modèle comporte les 9 couches suivantes:\n",
        "\n",
        "- Couche convolutive.\n",
        "- Couche de pooling prenant le maximum sur 2 * 2 patchs.\n",
        "- Couche convolutive avec 15 cartes d'entités de taille 3 × 3.\n",
        "- Couche De pooling prenant le maximum sur 2 * 2 patchs.\n",
        "- Couche Dropout avec une probabilité de 30%.\n",
        "- Couche Flatten\n",
        "- Couche Dense avec 128 neurones et activation du redresseur.\n",
        "- Couche Dense avec 50 neurones et activation du redresseur.\n",
        "- Couche de sortie.\n",
        "\n",
        "Adam est un optimiseur utilisé pour modifier les attributs de notre réseau de neurones tels que les poids et le taux d'apprentissage afin de réduire les pertes."
      ]
    },
    {
      "cell_type": "markdown",
      "metadata": {
        "id": "76FmZleZlf36"
      },
      "source": [
        "Afin de faciliter l'utilisation du modèle nous avons défini une fonction qui représentera le modèle qu'on veut entrainer"
      ]
    },
    {
      "cell_type": "code",
      "metadata": {
        "id": "hoibX2O2cGfA"
      },
      "source": [
        "## Premier modèle à entrainer\n",
        "def cnn_model():\n",
        "    model = Sequential()\n",
        "    model.add(Conv2D(30, (5, 5), input_shape=(IMG_SIZE, IMG_SIZE, 1), activation='relu'))\n",
        "    model.add(MaxPooling2D(pool_size=(2, 2)))\n",
        "    model.add(Conv2D(15, (3, 3), activation='relu'))\n",
        "    model.add(MaxPooling2D(pool_size=(2, 2)))\n",
        "    model.add(Dropout(dropout))\n",
        "    model.add(Flatten())\n",
        "    model.add(Dense(128, activation='relu'))\n",
        "    model.add(Dense(50, activation='relu'))\n",
        "    model.add(Dense(num_classes, activation='softmax'))\n",
        "    \n",
        "    opt = Adam(lr=0.001, beta_1=0.9, beta_2=0.999, epsilon=None, decay=0.0, amsgrad=False)\n",
        "    \n",
        "    model.compile(loss='sparse_categorical_crossentropy', optimizer=opt, metrics=['accuracy'])\n",
        "    return model"
      ],
      "execution_count": null,
      "outputs": []
    },
    {
      "cell_type": "markdown",
      "metadata": {
        "id": "MkErj_kVcGfA"
      },
      "source": [
        "Dans le but de comparer les performances de deux CNN différents, nous avous créé un second modèle plus compliqué que le premier. Nous avons ajouté une couche BatchNormalisation qui a pour but de rendre  notre modèle plus rapide et plus stable grâce à la normalisation de la couche d'entrée par recentrage et \r\n",
        "re-mise à l'échelle."
      ]
    },
    {
      "cell_type": "code",
      "metadata": {
        "id": "pSNXJz-QcGfA"
      },
      "source": [
        "def cnn_model_2():\n",
        "    model = Sequential()\n",
        "\n",
        "    model.add(Conv2D(filters = 32, kernel_size= (4,4), padding = 'same', input_shape = (28,28,1), activation= 'relu'))\n",
        "    model.add(BatchNormalization())\n",
        "    model.add(MaxPool2D(pool_size=(2,2)))\n",
        "    model.add(Conv2D(filters = 64, kernel_size= (4,4), padding = 'same', input_shape = (28,28,1), activation= 'relu'))\n",
        "    model.add(BatchNormalization())\n",
        "    model.add(MaxPool2D(pool_size=(2,2)))\n",
        "    model.add(Dropout(dropout))\n",
        "    model.add(BatchNormalization())\n",
        "    model.add(Conv2D(filters = 128, kernel_size= (4,4), padding = 'same', input_shape = (28,28,1), activation= 'relu'))\n",
        "    model.add(Conv2D(filters = 128, kernel_size= (4,4), padding = 'same', input_shape = (28,28,1), activation= 'relu'))\n",
        "    model.add(Dropout(dropout))\n",
        "    model.add(BatchNormalization())\n",
        "    model.add(MaxPool2D(pool_size=(2,2)))\n",
        "    model.add(BatchNormalization())\n",
        "    model.add(Dropout(dropout))\n",
        "    model.add(Flatten())\n",
        "    model.add(Dense(128, activation='relu'))\n",
        "    model.add(Dropout(dropout))\n",
        "    model.add(Dense(num_classes, activation='softmax'))\n",
        "\n",
        "    opt = Adam(lr=0.001, beta_1=0.9, beta_2=0.999, epsilon=None, decay=0.0, amsgrad=False)\n",
        "\n",
        "    model.compile(optimizer = opt, loss = 'sparse_categorical_crossentropy', metrics = ['accuracy'])\n",
        "\n",
        "    return model"
      ],
      "execution_count": null,
      "outputs": []
    },
    {
      "cell_type": "code",
      "metadata": {
        "id": "tnjoHYTIcGfB"
      },
      "source": [
        "from sklearn.model_selection import train_test_split\n",
        "\n",
        "x_train, x_test, y_train, y_test = train_test_split(x_train_cnn, y_train_cnn, test_size=0.2, random_state=0)"
      ],
      "execution_count": null,
      "outputs": []
    },
    {
      "cell_type": "markdown",
      "metadata": {
        "id": "-K-T7rWbcGfB"
      },
      "source": [
        "Afin d'éviter le sur-apprentissage durant l'entrainement de notre réseau de neuronnes , nous avons choisi d'utiliser l'EarlyStopping qui nous permettera d'arrêter l'entrainement une fois que les performances du modèle ne s'améliorent plus "
      ]
    },
    {
      "cell_type": "markdown",
      "metadata": {
        "id": "X6SbQpRqpoep"
      },
      "source": [
        "## Maintenant , on commence l'entrainement de notre premier modèle "
      ]
    },
    {
      "cell_type": "code",
      "metadata": {
        "id": "rTDtP2-ecGfC"
      },
      "source": [
        "model = cnn_model()\n",
        "early_stop = EarlyStopping(monitor = 'val_loss', patience = 18)"
      ],
      "execution_count": null,
      "outputs": []
    },
    {
      "cell_type": "code",
      "metadata": {
        "id": "XZL3dKbOcGfC",
        "outputId": "9f5ce788-a5e9-40e6-855d-48a115936001"
      },
      "source": [
        "model.summary()"
      ],
      "execution_count": null,
      "outputs": [
        {
          "output_type": "stream",
          "text": [
            "Model: \"sequential_1\"\n",
            "_________________________________________________________________\n",
            "Layer (type)                 Output Shape              Param #   \n",
            "=================================================================\n",
            "conv2d_2 (Conv2D)            (None, 24, 24, 30)        780       \n",
            "_________________________________________________________________\n",
            "max_pooling2d_2 (MaxPooling2 (None, 12, 12, 30)        0         \n",
            "_________________________________________________________________\n",
            "conv2d_3 (Conv2D)            (None, 10, 10, 15)        4065      \n",
            "_________________________________________________________________\n",
            "max_pooling2d_3 (MaxPooling2 (None, 5, 5, 15)          0         \n",
            "_________________________________________________________________\n",
            "dropout_1 (Dropout)          (None, 5, 5, 15)          0         \n",
            "_________________________________________________________________\n",
            "flatten_1 (Flatten)          (None, 375)               0         \n",
            "_________________________________________________________________\n",
            "dense_3 (Dense)              (None, 128)               48128     \n",
            "_________________________________________________________________\n",
            "dense_4 (Dense)              (None, 50)                6450      \n",
            "_________________________________________________________________\n",
            "dense_5 (Dense)              (None, 5)                 255       \n",
            "=================================================================\n",
            "Total params: 59,678\n",
            "Trainable params: 59,678\n",
            "Non-trainable params: 0\n",
            "_________________________________________________________________\n"
          ],
          "name": "stdout"
        }
      ]
    },
    {
      "cell_type": "code",
      "metadata": {
        "id": "DzfDZXa1cGfC",
        "outputId": "3f5eb81f-f272-416c-cc3a-c37de8cfca7d"
      },
      "source": [
        "visualkeras.layered_view(model)"
      ],
      "execution_count": null,
      "outputs": [
        {
          "output_type": "execute_result",
          "data": {
            "image/png": "[encoded data removed]",
            "text/plain": [
              "<PIL.Image.Image image mode=RGBA size=317x128 at 0x23288065748>"
            ]
          },
          "metadata": {
            "tags": []
          },
          "execution_count": 20
        }
      ]
    },
    {
      "cell_type": "code",
      "metadata": {
        "id": "ngOCbbTHcGfC",
        "outputId": "eb8c26a2-94ea-401c-91ac-9eb17b670f3b"
      },
      "source": [
        "hist = model.fit(x_train, y_train, validation_data=(x_test, y_test), epochs=num_epochs, batch_size=batch_size, callbacks=[early_stop])\n",
        "# Final evaluation of the model\n",
        "scores = model.evaluate(x_test, y_test, verbose=0)\n",
        "print('Final CNN accuracy: ', scores[1])"
      ],
      "execution_count": null,
      "outputs": [
        {
          "output_type": "stream",
          "text": [
            "Epoch 1/25\n",
            "300/300 [==============================] - 30s 96ms/step - loss: 0.8656 - accuracy: 0.6838 - val_loss: 0.3417 - val_accuracy: 0.8925\n",
            "Epoch 2/25\n",
            "300/300 [==============================] - 27s 91ms/step - loss: 0.3741 - accuracy: 0.8811 - val_loss: 0.2704 - val_accuracy: 0.9135\n",
            "Epoch 3/25\n",
            "300/300 [==============================] - 28s 92ms/step - loss: 0.2966 - accuracy: 0.9043 - val_loss: 0.2352 - val_accuracy: 0.9255\n",
            "Epoch 4/25\n",
            "300/300 [==============================] - 28s 92ms/step - loss: 0.2623 - accuracy: 0.9129 - val_loss: 0.2082 - val_accuracy: 0.9321\n",
            "Epoch 5/25\n",
            "300/300 [==============================] - 27s 91ms/step - loss: 0.2322 - accuracy: 0.9236 - val_loss: 0.1996 - val_accuracy: 0.9346\n",
            "Epoch 6/25\n",
            "300/300 [==============================] - 27s 91ms/step - loss: 0.2179 - accuracy: 0.9272 - val_loss: 0.1929 - val_accuracy: 0.9356\n",
            "Epoch 7/25\n",
            "300/300 [==============================] - 26s 87ms/step - loss: 0.2048 - accuracy: 0.9314 - val_loss: 0.1813 - val_accuracy: 0.9396\n",
            "Epoch 8/25\n",
            "300/300 [==============================] - 27s 89ms/step - loss: 0.1921 - accuracy: 0.9351 - val_loss: 0.1763 - val_accuracy: 0.9404\n",
            "Epoch 9/25\n",
            "300/300 [==============================] - 32s 107ms/step - loss: 0.1804 - accuracy: 0.9392 - val_loss: 0.1727 - val_accuracy: 0.9431\n",
            "Epoch 10/25\n",
            "300/300 [==============================] - 34s 114ms/step - loss: 0.1729 - accuracy: 0.9414 - val_loss: 0.1687 - val_accuracy: 0.9436\n",
            "Epoch 11/25\n",
            "300/300 [==============================] - 35s 118ms/step - loss: 0.1646 - accuracy: 0.9436 - val_loss: 0.1689 - val_accuracy: 0.9435\n",
            "Epoch 12/25\n",
            "300/300 [==============================] - 39s 130ms/step - loss: 0.1597 - accuracy: 0.9452 - val_loss: 0.1601 - val_accuracy: 0.9474\n",
            "Epoch 13/25\n",
            "300/300 [==============================] - 37s 123ms/step - loss: 0.1554 - accuracy: 0.9463 - val_loss: 0.1672 - val_accuracy: 0.9459\n",
            "Epoch 14/25\n",
            "300/300 [==============================] - 34s 112ms/step - loss: 0.1486 - accuracy: 0.9487 - val_loss: 0.1666 - val_accuracy: 0.9451\n",
            "Epoch 15/25\n",
            "300/300 [==============================] - 34s 114ms/step - loss: 0.1431 - accuracy: 0.9509 - val_loss: 0.1583 - val_accuracy: 0.9487\n",
            "Epoch 16/25\n",
            "300/300 [==============================] - 33s 111ms/step - loss: 0.1356 - accuracy: 0.9524 - val_loss: 0.1593 - val_accuracy: 0.9464\n",
            "Epoch 17/25\n",
            "300/300 [==============================] - 32s 106ms/step - loss: 0.1352 - accuracy: 0.9527 - val_loss: 0.1555 - val_accuracy: 0.9481\n",
            "Epoch 18/25\n",
            "300/300 [==============================] - 32s 107ms/step - loss: 0.1285 - accuracy: 0.9550 - val_loss: 0.1594 - val_accuracy: 0.9484\n",
            "Epoch 19/25\n",
            "300/300 [==============================] - 32s 105ms/step - loss: 0.1270 - accuracy: 0.9553 - val_loss: 0.1591 - val_accuracy: 0.9473\n",
            "Epoch 20/25\n",
            "300/300 [==============================] - 32s 107ms/step - loss: 0.1232 - accuracy: 0.9569 - val_loss: 0.1503 - val_accuracy: 0.9509\n",
            "Epoch 21/25\n",
            "300/300 [==============================] - 33s 112ms/step - loss: 0.1198 - accuracy: 0.9586 - val_loss: 0.1575 - val_accuracy: 0.9499\n",
            "Epoch 22/25\n",
            "300/300 [==============================] - 27s 90ms/step - loss: 0.1168 - accuracy: 0.9589 - val_loss: 0.1618 - val_accuracy: 0.9489\n",
            "Epoch 23/25\n",
            "300/300 [==============================] - 26s 87ms/step - loss: 0.1120 - accuracy: 0.9616 - val_loss: 0.1578 - val_accuracy: 0.9500\n",
            "Epoch 24/25\n",
            "300/300 [==============================] - 26s 86ms/step - loss: 0.1095 - accuracy: 0.9613 - val_loss: 0.1615 - val_accuracy: 0.9502\n",
            "Epoch 25/25\n",
            "300/300 [==============================] - 26s 87ms/step - loss: 0.1104 - accuracy: 0.9609 - val_loss: 0.1743 - val_accuracy: 0.9473\n",
            "Final CNN accuracy:  0.9472666382789612\n"
          ],
          "name": "stdout"
        }
      ]
    },
    {
      "cell_type": "markdown",
      "metadata": {
        "id": "r3x04fhYcGfD"
      },
      "source": [
        "#### On teste la performance du modèle sur les données de validation"
      ]
    },
    {
      "cell_type": "code",
      "metadata": {
        "id": "1OK2u4tIcGfD",
        "outputId": "3d543bd9-032e-4b2f-ab14-0b4ff7741170"
      },
      "source": [
        "from sklearn.metrics import accuracy_score\n",
        "\n",
        "y_pred_cnn = model.predict_classes(x_test_cnn, batch_size=32, verbose=0)\n",
        "acc_cnn = accuracy_score(y_test_cnn, y_pred_cnn)\n",
        "print ('CNN accuracy: ',acc_cnn)"
      ],
      "execution_count": null,
      "outputs": [
        {
          "output_type": "stream",
          "text": [
            "c:\\users\\abder\\appdata\\local\\programs\\python\\python37\\lib\\site-packages\\tensorflow\\python\\keras\\engine\\sequential.py:450: UserWarning: `model.predict_classes()` is deprecated and will be removed after 2021-01-01. Please use instead:* `np.argmax(model.predict(x), axis=-1)`,   if your model does multi-class classification   (e.g. if it uses a `softmax` last-layer activation).* `(model.predict(x) > 0.5).astype(\"int32\")`,   if your model does binary classification   (e.g. if it uses a `sigmoid` last-layer activation).\n",
            "  warnings.warn('`model.predict_classes()` is deprecated and '\n"
          ],
          "name": "stderr"
        },
        {
          "output_type": "stream",
          "text": [
            "CNN accuracy:  0.9466\n"
          ],
          "name": "stdout"
        }
      ]
    },
    {
      "cell_type": "markdown",
      "metadata": {
        "id": "5F8zfeIxs3Ig"
      },
      "source": [
        "## Nous avons réussi à obtenir un score de 94,66% sur les données de validation grace à ce premier modèle.  On constate une légère diminution entre la performance sur les données d'entrainements et la performance sur les données de validation. "
      ]
    },
    {
      "cell_type": "code",
      "metadata": {
        "id": "rGEgiN5McGfD"
      },
      "source": [
        "#sauvegarder le modèle\n",
        "model.save(\"model.h5\")"
      ],
      "execution_count": null,
      "outputs": []
    },
    {
      "cell_type": "code",
      "metadata": {
        "id": "r_dre1C-cGfD",
        "outputId": "ce1a49a8-a532-4e02-9971-908cb5361087"
      },
      "source": [
        "score = model.evaluate(x_test_cnn, y_test_cnn, verbose=1)\n",
        "plt.figure(figsize=(15,8))\n",
        "plt.subplot(1,2,1)\n",
        "plt.plot(hist.history['accuracy'])\n",
        "plt.plot(hist.history['val_accuracy'])\n",
        "plt.title('Précision')\n",
        "plt.ylabel('Précision')\n",
        "plt.xlabel('epoch')\n",
        "plt.legend(['train', 'validation'], loc='best')\n",
        "\n",
        "plt.subplot(1,2,2)\n",
        "x = list(range(1,num_epochs+1))\n",
        "l = hist.history['loss']\n",
        "plt.xlabel('epoch')\n",
        "plt.ylabel('Entropie croisée')\n",
        "plt.title(\"Test : Score = {0:5.3f}, Précision = {1:5.3f}\".format(score[0], score[1]))\n",
        "plt.plot(x,l)\n",
        "plt.show()\n",
        "plt.tight_layout()\n"
      ],
      "execution_count": null,
      "outputs": [
        {
          "output_type": "stream",
          "text": [
            "782/782 [==============================] - 6s 8ms/step - loss: 0.1742 - accuracy: 0.9466\n"
          ],
          "name": "stdout"
        },
        {
          "output_type": "display_data",
          "data": {
            "image/png": "[encoded data removed]",
            "text/plain": [
              "<Figure size 1080x576 with 2 Axes>"
            ]
          },
          "metadata": {
            "tags": [],
            "needs_background": "light"
          }
        },
        {
          "output_type": "display_data",
          "data": {
            "text/plain": [
              "<Figure size 432x288 with 0 Axes>"
            ]
          },
          "metadata": {
            "tags": []
          }
        }
      ]
    },
    {
      "cell_type": "markdown",
      "metadata": {
        "id": "2ep1YGlUqWQ5"
      },
      "source": [
        "### Comme prévu , nous avons une légère diminution entre la performance du modèle sur les données d'entrainements et sur les données de validation. \r\n",
        "### Afin de mieux voir cette performance, nous avons choisi de vérifier ça grace à une matrice de confusion\r\n"
      ]
    },
    {
      "cell_type": "code",
      "metadata": {
        "id": "uxcdFsXqcGfE",
        "outputId": "6a382f74-14c4-444f-a1f2-48c50fa0538c"
      },
      "source": [
        "from sklearn.metrics import confusion_matrix\n",
        "import seaborn as sns\n",
        "plt.figure(figsize = (12, 8))\n",
        "sns.heatmap(confusion_matrix(y_test_cnn, y_pred_cnn), annot=True)"
      ],
      "execution_count": null,
      "outputs": [
        {
          "output_type": "execute_result",
          "data": {
            "text/plain": [
              "<AxesSubplot:>"
            ]
          },
          "metadata": {
            "tags": []
          },
          "execution_count": 25
        },
        {
          "output_type": "display_data",
          "data": {
            "image/png": "[encoded data removed]",
            "text/plain": [
              "<Figure size 864x576 with 2 Axes>"
            ]
          },
          "metadata": {
            "tags": [],
            "needs_background": "light"
          }
        }
      ]
    },
    {
      "cell_type": "markdown",
      "metadata": {
        "id": "6WNT4aEXcGfE"
      },
      "source": [
        "### Nous avons globalement réussi à avoir de bons résultats d'après la matrice de confusion.Pourtant, nous avons décidé d'entrainer un deuxième modèle afin de voir s'il est possible d'obtenir de meilleurs résultats.   "
      ]
    },
    {
      "cell_type": "markdown",
      "metadata": {
        "id": "GfRI9ajUskkf"
      },
      "source": [
        "### Entrainement du deuxième modèle"
      ]
    },
    {
      "cell_type": "code",
      "metadata": {
        "id": "cyclrikScGfE",
        "outputId": "c7f993b3-d4a9-429f-c309-5e2d504a464c"
      },
      "source": [
        "model_2 = cnn_model_2()\n",
        "\n",
        "model_2.summary()"
      ],
      "execution_count": null,
      "outputs": [
        {
          "output_type": "stream",
          "text": [
            "Model: \"sequential_3\"\n",
            "_________________________________________________________________\n",
            "Layer (type)                 Output Shape              Param #   \n",
            "=================================================================\n",
            "conv2d_5 (Conv2D)            (None, 28, 28, 32)        544       \n",
            "_________________________________________________________________\n",
            "batch_normalization_1 (Batch (None, 28, 28, 32)        128       \n",
            "_________________________________________________________________\n",
            "max_pooling2d_4 (MaxPooling2 (None, 14, 14, 32)        0         \n",
            "_________________________________________________________________\n",
            "conv2d_6 (Conv2D)            (None, 14, 14, 64)        32832     \n",
            "_________________________________________________________________\n",
            "batch_normalization_2 (Batch (None, 14, 14, 64)        256       \n",
            "_________________________________________________________________\n",
            "max_pooling2d_5 (MaxPooling2 (None, 7, 7, 64)          0         \n",
            "_________________________________________________________________\n",
            "dropout_2 (Dropout)          (None, 7, 7, 64)          0         \n",
            "_________________________________________________________________\n",
            "batch_normalization_3 (Batch (None, 7, 7, 64)          256       \n",
            "_________________________________________________________________\n",
            "conv2d_7 (Conv2D)            (None, 7, 7, 128)         131200    \n",
            "_________________________________________________________________\n",
            "conv2d_8 (Conv2D)            (None, 7, 7, 128)         262272    \n",
            "_________________________________________________________________\n",
            "dropout_3 (Dropout)          (None, 7, 7, 128)         0         \n",
            "_________________________________________________________________\n",
            "batch_normalization_4 (Batch (None, 7, 7, 128)         512       \n",
            "_________________________________________________________________\n",
            "max_pooling2d_6 (MaxPooling2 (None, 3, 3, 128)         0         \n",
            "_________________________________________________________________\n",
            "batch_normalization_5 (Batch (None, 3, 3, 128)         512       \n",
            "_________________________________________________________________\n",
            "dropout_4 (Dropout)          (None, 3, 3, 128)         0         \n",
            "_________________________________________________________________\n",
            "flatten_2 (Flatten)          (None, 1152)              0         \n",
            "_________________________________________________________________\n",
            "dense_6 (Dense)              (None, 128)               147584    \n",
            "_________________________________________________________________\n",
            "dropout_5 (Dropout)          (None, 128)               0         \n",
            "_________________________________________________________________\n",
            "dense_7 (Dense)              (None, 5)                 645       \n",
            "=================================================================\n",
            "Total params: 576,741\n",
            "Trainable params: 575,909\n",
            "Non-trainable params: 832\n",
            "_________________________________________________________________\n"
          ],
          "name": "stdout"
        }
      ]
    },
    {
      "cell_type": "code",
      "metadata": {
        "id": "nGJm2aR8cGfF",
        "outputId": "3979c02c-ee39-4e57-fdc9-0f239e3db8e4"
      },
      "source": [
        "visualkeras.layered_view(model_2)"
      ],
      "execution_count": null,
      "outputs": [
        {
          "output_type": "execute_result",
          "data": {
            "image/png": "[encoded data removed]",
            "text/plain": [
              "<PIL.Image.Image image mode=RGBA size=698x150 at 0x232A1B27F08>"
            ]
          },
          "metadata": {
            "tags": []
          },
          "execution_count": 33
        }
      ]
    },
    {
      "cell_type": "code",
      "metadata": {
        "id": "U6CZyDIQcGfF",
        "outputId": "bb52ef0f-f477-42f3-cedb-fa93d4e35ce3"
      },
      "source": [
        "hist_2 = model_2.fit(x_train, y_train, validation_data=(x_test, y_test), epochs=num_epochs, batch_size=batch_size, callbacks=[early_stop])\n",
        "# Final evaluation of the model\n",
        "scores_2 = model.evaluate(x_test, y_test, verbose=0)\n",
        "print('Final CNN accuracy: ', scores_2[1])"
      ],
      "execution_count": null,
      "outputs": [
        {
          "output_type": "stream",
          "text": [
            "Epoch 1/25\n",
            "300/300 [==============================] - 266s 884ms/step - loss: 0.6502 - accuracy: 0.7782 - val_loss: 1.6179 - val_accuracy: 0.1976\n",
            "Epoch 2/25\n",
            "300/300 [==============================] - 279s 931ms/step - loss: 0.2245 - accuracy: 0.9248 - val_loss: 0.6709 - val_accuracy: 0.7122\n",
            "Epoch 3/25\n",
            "300/300 [==============================] - 298s 993ms/step - loss: 0.1791 - accuracy: 0.9411 - val_loss: 0.1537 - val_accuracy: 0.9485\n",
            "Epoch 4/25\n",
            "300/300 [==============================] - 254s 847ms/step - loss: 0.1519 - accuracy: 0.9489 - val_loss: 0.2330 - val_accuracy: 0.9297\n",
            "Epoch 5/25\n",
            "300/300 [==============================] - 266s 887ms/step - loss: 0.1364 - accuracy: 0.9543 - val_loss: 0.1555 - val_accuracy: 0.9492\n",
            "Epoch 6/25\n",
            "300/300 [==============================] - 251s 838ms/step - loss: 0.1225 - accuracy: 0.9578 - val_loss: 0.1421 - val_accuracy: 0.9521\n",
            "Epoch 7/25\n",
            "300/300 [==============================] - 285s 950ms/step - loss: 0.1123 - accuracy: 0.9621 - val_loss: 0.1472 - val_accuracy: 0.9524\n",
            "Epoch 8/25\n",
            "300/300 [==============================] - 276s 920ms/step - loss: 0.1095 - accuracy: 0.9617 - val_loss: 0.1476 - val_accuracy: 0.9533\n",
            "Epoch 9/25\n",
            "300/300 [==============================] - 272s 906ms/step - loss: 0.1002 - accuracy: 0.9655 - val_loss: 0.1307 - val_accuracy: 0.9559\n",
            "Epoch 10/25\n",
            "300/300 [==============================] - 259s 862ms/step - loss: 0.0987 - accuracy: 0.9650 - val_loss: 0.1582 - val_accuracy: 0.9498\n",
            "Epoch 11/25\n",
            "300/300 [==============================] - 243s 812ms/step - loss: 0.0922 - accuracy: 0.9687 - val_loss: 0.1313 - val_accuracy: 0.9591\n",
            "Epoch 12/25\n",
            "300/300 [==============================] - 232s 774ms/step - loss: 0.0821 - accuracy: 0.9701 - val_loss: 0.1401 - val_accuracy: 0.9581\n",
            "Epoch 13/25\n",
            "300/300 [==============================] - 258s 860ms/step - loss: 0.0808 - accuracy: 0.9705 - val_loss: 0.1674 - val_accuracy: 0.9501\n",
            "Epoch 14/25\n",
            "300/300 [==============================] - 223s 745ms/step - loss: 0.0790 - accuracy: 0.9721 - val_loss: 0.1551 - val_accuracy: 0.9511\n",
            "Epoch 15/25\n",
            "300/300 [==============================] - 227s 755ms/step - loss: 0.0757 - accuracy: 0.9730 - val_loss: 0.1497 - val_accuracy: 0.9535\n",
            "Epoch 16/25\n",
            "300/300 [==============================] - 231s 770ms/step - loss: 0.0736 - accuracy: 0.9734 - val_loss: 0.1456 - val_accuracy: 0.9579\n",
            "Epoch 17/25\n",
            "300/300 [==============================] - 315s 1s/step - loss: 0.0686 - accuracy: 0.9751 - val_loss: 0.1376 - val_accuracy: 0.9617\n",
            "Epoch 18/25\n",
            "300/300 [==============================] - 300s 999ms/step - loss: 0.0661 - accuracy: 0.9762 - val_loss: 0.2109 - val_accuracy: 0.9470\n",
            "Epoch 19/25\n",
            "300/300 [==============================] - 329s 1s/step - loss: 0.0627 - accuracy: 0.9777 - val_loss: 0.1386 - val_accuracy: 0.9595\n",
            "Epoch 20/25\n",
            "300/300 [==============================] - 227s 757ms/step - loss: 0.0585 - accuracy: 0.9787 - val_loss: 0.1417 - val_accuracy: 0.9565\n",
            "Epoch 21/25\n",
            "300/300 [==============================] - 256s 854ms/step - loss: 0.0553 - accuracy: 0.9803 - val_loss: 0.1304 - val_accuracy: 0.9613\n",
            "Epoch 22/25\n",
            "300/300 [==============================] - 223s 744ms/step - loss: 0.0544 - accuracy: 0.9806 - val_loss: 0.1791 - val_accuracy: 0.9595\n",
            "Epoch 23/25\n",
            "300/300 [==============================] - 227s 755ms/step - loss: 0.0492 - accuracy: 0.9818 - val_loss: 0.1606 - val_accuracy: 0.9587\n",
            "Epoch 24/25\n",
            "300/300 [==============================] - 224s 747ms/step - loss: 0.0517 - accuracy: 0.9814 - val_loss: 0.1658 - val_accuracy: 0.9579\n",
            "Epoch 25/25\n",
            "300/300 [==============================] - 223s 743ms/step - loss: 0.0486 - accuracy: 0.9819 - val_loss: 0.1579 - val_accuracy: 0.9576\n",
            "Final CNN accuracy:  0.9484000205993652\n"
          ],
          "name": "stdout"
        }
      ]
    },
    {
      "cell_type": "code",
      "metadata": {
        "id": "dLuJ858vcGfF",
        "outputId": "4185df79-4df2-462c-edd2-fc7c2fa3a807"
      },
      "source": [
        "y_pred_cnn_2 = model_2.predict_classes(x_test_cnn, batch_size=32, verbose=0)\n",
        "acc_cnn_2 = accuracy_score(y_test_cnn, y_pred_cnn_2)\n",
        "print ('CNN accuracy: ',acc_cnn_2)"
      ],
      "execution_count": null,
      "outputs": [
        {
          "output_type": "stream",
          "text": [
            "c:\\users\\abder\\appdata\\local\\programs\\python\\python37\\lib\\site-packages\\tensorflow\\python\\keras\\engine\\sequential.py:450: UserWarning: `model.predict_classes()` is deprecated and will be removed after 2021-01-01. Please use instead:* `np.argmax(model.predict(x), axis=-1)`,   if your model does multi-class classification   (e.g. if it uses a `softmax` last-layer activation).* `(model.predict(x) > 0.5).astype(\"int32\")`,   if your model does binary classification   (e.g. if it uses a `sigmoid` last-layer activation).\n",
            "  warnings.warn('`model.predict_classes()` is deprecated and '\n"
          ],
          "name": "stderr"
        },
        {
          "output_type": "stream",
          "text": [
            "CNN accuracy:  0.95812\n"
          ],
          "name": "stdout"
        }
      ]
    },
    {
      "cell_type": "markdown",
      "metadata": {
        "id": "U9QtS4d0ueIm"
      },
      "source": [
        "## Nous avons réussi à obtenir un score de 95,81% sur les données de validation grace à ce deuxième modèle, ce qui est plus important que le premier modèle. "
      ]
    },
    {
      "cell_type": "code",
      "metadata": {
        "id": "_x28sA_mcGfF",
        "outputId": "f552b8e5-893f-42bd-94e5-9cc972c71f92"
      },
      "source": [
        "score = model_2.evaluate(x_test_cnn, y_test_cnn, verbose=1)\n",
        "plt.figure(figsize=(15,8))\n",
        "plt.subplot(1,2,1)\n",
        "plt.plot(hist_2.history['accuracy'])\n",
        "plt.plot(hist_2.history['val_accuracy'])\n",
        "plt.title('Précision')\n",
        "plt.ylabel('Précision')\n",
        "plt.xlabel('epoch')\n",
        "plt.legend(['train', 'validation'], loc='best')\n",
        "\n",
        "plt.subplot(1,2,2)\n",
        "x = list(range(1,num_epochs+1))\n",
        "l = hist_2.history['loss']\n",
        "plt.xlabel('epoch')\n",
        "plt.ylabel('Entropie croisée')\n",
        "plt.title(\"Test : Score = {0:5.3f}, Précision = {1:5.3f}\".format(scores_2[0], scores_2[1]))\n",
        "plt.plot(x,l)\n",
        "plt.show()\n",
        "plt.tight_layout()\n"
      ],
      "execution_count": null,
      "outputs": [
        {
          "output_type": "stream",
          "text": [
            "782/782 [==============================] - 40s 51ms/step - loss: 0.1553 - accuracy: 0.9581\n"
          ],
          "name": "stdout"
        },
        {
          "output_type": "display_data",
          "data": {
            "image/png": "[encoded data removed]",
            "text/plain": [
              "<Figure size 1080x576 with 2 Axes>"
            ]
          },
          "metadata": {
            "tags": [],
            "needs_background": "light"
          }
        },
        {
          "output_type": "display_data",
          "data": {
            "text/plain": [
              "<Figure size 432x288 with 0 Axes>"
            ]
          },
          "metadata": {
            "tags": []
          }
        }
      ]
    },
    {
      "cell_type": "code",
      "metadata": {
        "id": "Ruckp2U1cGfG",
        "outputId": "539c268b-f9ed-44c0-88c1-6e6d816b09fb"
      },
      "source": [
        "plt.figure(figsize = (12, 8))\n",
        "sns.heatmap(confusion_matrix(y_test_cnn, y_pred_cnn_2), annot=True)"
      ],
      "execution_count": null,
      "outputs": [
        {
          "output_type": "execute_result",
          "data": {
            "text/plain": [
              "<AxesSubplot:>"
            ]
          },
          "metadata": {
            "tags": []
          },
          "execution_count": 43
        },
        {
          "output_type": "display_data",
          "data": {
            "image/png": "[encoded data removed]",
            "text/plain": [
              "<Figure size 864x576 with 2 Axes>"
            ]
          },
          "metadata": {
            "tags": [],
            "needs_background": "light"
          }
        }
      ]
    },
    {
      "cell_type": "markdown",
      "metadata": {
        "id": "3cPlaYmpu5gn"
      },
      "source": [
        "### Grace à cette matrice de confusion , on peut remarquer que ce modèle est plus performant que le premier modèle que nous avons entrainé.\r\n",
        "### Sur le premier modèle , au niveau de la 3ème classe nous avons obtenu un grand nombre de mauvaises classifications.\r\n",
        "## Avec son score qui est plus important, le deuxième modèle nous parrait plus stable et plus perfomant, pour cela nous avons choisi de le garder pour notre classification."
      ]
    },
    {
      "cell_type": "code",
      "metadata": {
        "id": "rMWTGISJcGfG"
      },
      "source": [
        "model_2.save(\"model_2.h5\")"
      ],
      "execution_count": null,
      "outputs": []
    }
  ]
}